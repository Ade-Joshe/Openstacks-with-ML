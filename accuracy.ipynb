{
 "cells": [
  {
   "cell_type": "code",
   "execution_count": 2,
   "metadata": {},
   "outputs": [],
   "source": [
    "import pandas as pd\n",
    "from sklearn.metrics import classification_report"
   ]
  },
  {
   "cell_type": "code",
   "execution_count": 6,
   "metadata": {},
   "outputs": [],
   "source": [
    "# Load the test dataset\n",
    "# isolation forest\n",
    "# test_df = pd.read_csv(\"isolation-forest/test_with_final_anomalies.csv\")\n",
    "\n",
    "# svm\n",
    "test_df = pd.read_csv(\"svm/test_with_svm_anomalies.csv\")"
   ]
  },
  {
   "cell_type": "code",
   "execution_count": 7,
   "metadata": {},
   "outputs": [
    {
     "name": "stdout",
     "output_type": "stream",
     "text": [
      "Ground truth labels added and saved to 'test_with_ground_truth.csv'.\n"
     ]
    }
   ],
   "source": [
    "# Manually label my ground truth for comparison\n",
    "\n",
    "# Define thresholds for labeling anomalies\n",
    "high_response_time_threshold = test_df['response_time'].quantile(0.95)  # Top 5% response times\n",
    "error_status_codes = [404, 500, 503]  #  Common error codes\n",
    "\n",
    "# Label ground truth based on rules\n",
    "def label_ground_truth(row):\n",
    "    if row['status_code'] in error_status_codes:\n",
    "        return -1  # Anomalous: Error status codes\n",
    "    elif row['response_time'] > high_response_time_threshold:\n",
    "        return -1  # Anomalous: High response time\n",
    "    elif pd.isnull(row['internal_ip']):\n",
    "        return -1  # Anomalous: Missing client IP\n",
    "    else:\n",
    "        return 1  # Normal log\n",
    "\n",
    "# Apply the labeling function\n",
    "test_df['true_label'] = test_df.apply(label_ground_truth, axis=1)\n",
    "\n",
    "# Save the labeled dataset (isolation-forest)\n",
    "test_df.to_csv(\"isolation-forest/test_with_ground_truth.csv\", index=False)\n",
    "\n",
    "# one class svm\n",
    "# test_df.to_csv(\"svm/test_with_ground_truth.csv\", index=False)\n",
    "\n",
    "print(\"Ground truth labels added and saved to 'test_with_ground_truth.csv'.\")\n"
   ]
  },
  {
   "cell_type": "code",
   "execution_count": 5,
   "metadata": {},
   "outputs": [
    {
     "name": "stdout",
     "output_type": "stream",
     "text": [
      "              precision    recall  f1-score   support\n",
      "\n",
      "      Normal       1.00      0.29      0.46      2397\n",
      "   Anomalous       0.93      1.00      0.97     24227\n",
      "\n",
      "    accuracy                           0.94     26624\n",
      "   macro avg       0.97      0.65      0.71     26624\n",
      "weighted avg       0.94      0.94      0.92     26624\n",
      "\n"
     ]
    }
   ],
   "source": [
    "# Accuracy of isolation-forest\n",
    "test_df_with_ground_truth = pd.read_csv(\"isolation-forest/test_with_ground_truth.csv\")\n",
    "\n",
    "\n",
    "y_true = test_df_with_ground_truth['true_label'] \n",
    "y_pred = test_df_with_ground_truth['is_anomalous'].apply(lambda x: -1 if x else 1)  # Convert to match format\n",
    "\n",
    "# Generate a classification report\n",
    "print(classification_report(y_true, y_pred, target_names=['Normal', 'Anomalous']))\n"
   ]
  },
  {
   "cell_type": "code",
   "execution_count": 8,
   "metadata": {},
   "outputs": [
    {
     "name": "stdout",
     "output_type": "stream",
     "text": [
      "              precision    recall  f1-score   support\n",
      "\n",
      "      Normal       0.80      0.47      0.59      2397\n",
      "   Anomalous       0.95      0.99      0.97     24227\n",
      "\n",
      "    accuracy                           0.94     26624\n",
      "   macro avg       0.88      0.73      0.78     26624\n",
      "weighted avg       0.94      0.94      0.93     26624\n",
      "\n"
     ]
    }
   ],
   "source": [
    "# Accuracy of svm\n",
    "# load data with ground truth\n",
    "test_df_with_ground_truth = pd.read_csv(\"svm/test_with_ground_truth.csv\")\n",
    "\n",
    "\n",
    "y_true = test_df_with_ground_truth['true_label'] \n",
    "y_pred = test_df_with_ground_truth['is_anomalous_svm'].apply(lambda x: -1 if x else 1)  # Convert to match format\n",
    "\n",
    "# Generate a classification report\n",
    "print(classification_report(y_true, y_pred, target_names=['Normal', 'Anomalous']))\n"
   ]
  }
 ],
 "metadata": {
  "kernelspec": {
   "display_name": "Python 3",
   "language": "python",
   "name": "python3"
  },
  "language_info": {
   "codemirror_mode": {
    "name": "ipython",
    "version": 3
   },
   "file_extension": ".py",
   "mimetype": "text/x-python",
   "name": "python",
   "nbconvert_exporter": "python",
   "pygments_lexer": "ipython3",
   "version": "3.12.7"
  }
 },
 "nbformat": 4,
 "nbformat_minor": 2
}
