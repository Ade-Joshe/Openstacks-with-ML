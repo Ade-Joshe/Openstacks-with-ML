{
 "cells": [
  {
   "cell_type": "code",
   "execution_count": null,
   "metadata": {},
   "outputs": [],
   "source": [
    "%pip install pandas"
   ]
  },
  {
   "cell_type": "code",
   "execution_count": null,
   "metadata": {},
   "outputs": [],
   "source": [
    "import pandas as pd;\n",
    "from sklearn.cluster import DBSCAN\n",
    "from sklearn.preprocessing import StandardScaler"
   ]
  },
  {
   "cell_type": "code",
   "execution_count": 13,
   "metadata": {},
   "outputs": [],
   "source": [
    "# Read files\n",
    "df_train = pd.read_csv('preprocessed/preprocessed_openstack_train.csv')\n",
    "\n",
    "# Calculate request frequency by IP\n",
    "ip_activity_train = df_train['internal_ip'].value_counts().reset_index()\n",
    "ip_activity_train.columns = ['internal_ip', 'request_count']"
   ]
  },
  {
   "cell_type": "code",
   "execution_count": 11,
   "metadata": {},
   "outputs": [
    {
     "name": "stdout",
     "output_type": "stream",
     "text": [
      "Anomalous IPs (95th percentile):\n",
      "         internal_ip  request_count  is_anomalous\n",
      "0   INTERNAL_PROCESS          74381             1\n",
      "1         10.11.10.1          49430             1\n",
      "2         10.11.10.2            306             0\n",
      "3        10.11.28.99             26             0\n",
      "4        10.11.28.34             26             0\n",
      "..               ...            ...           ...\n",
      "56       10.11.26.41             18             0\n",
      "57      10.11.24.210             18             0\n",
      "58      10.11.25.250             18             0\n",
      "59        10.11.25.6             18             0\n",
      "60       10.11.24.46             18             0\n",
      "\n",
      "[61 rows x 3 columns]\n"
     ]
    }
   ],
   "source": [
    "# Set threshold for anomaly detection\n",
    "threshold = ip_activity_train['request_count'].quantile(0.95)\n",
    "anomalous_ips = ip_activity_train[ip_activity_train['request_count'] > threshold]\n",
    "\n",
    "print(f\"Anomalous IPs (95th percentile):\\n{anomalous_ips}\")"
   ]
  },
  {
   "cell_type": "code",
   "execution_count": 14,
   "metadata": {},
   "outputs": [
    {
     "name": "stdout",
     "output_type": "stream",
     "text": [
      "Anomalous IPs (DBSCAN):\n",
      "        internal_ip  request_count  is_anomalous\n",
      "0  INTERNAL_PROCESS          74381             1\n",
      "1        10.11.10.1          49430             1\n"
     ]
    }
   ],
   "source": [
    "# Standardize request count for clustering\n",
    "scaler = StandardScaler()\n",
    "scaled_counts = scaler.fit_transform(ip_activity_train[['request_count']])\n",
    "\n",
    "# Apply DBSCAN\n",
    "db = DBSCAN(eps=1.5, min_samples=5).fit(scaled_counts)\n",
    "ip_activity_train['is_anomalous'] = (db.labels_ == -1).astype(int)\n",
    "\n",
    "# View anomalous IPs\n",
    "anomalous_ips_dbscan = ip_activity_train[ip_activity_train['is_anomalous'] == 1]\n",
    "print(f\"Anomalous IPs (DBSCAN):\\n{anomalous_ips_dbscan}\")\n"
   ]
  },
  {
   "cell_type": "code",
   "execution_count": 16,
   "metadata": {},
   "outputs": [
    {
     "name": "stdout",
     "output_type": "stream",
     "text": [
      "Anomalous IP Summary:\n",
      "         internal_ip  request_count\n",
      "0   INTERNAL_PROCESS          74381\n",
      "1         10.11.10.1          49430\n",
      "2         10.11.10.2            306\n",
      "3        10.11.28.99             26\n",
      "4        10.11.28.34             26\n",
      "..               ...            ...\n",
      "56       10.11.26.41             18\n",
      "57      10.11.24.210             18\n",
      "58      10.11.25.250             18\n",
      "59        10.11.25.6             18\n",
      "60       10.11.24.46             18\n",
      "\n",
      "[61 rows x 2 columns]\n"
     ]
    }
   ],
   "source": [
    "# Error Analysis\n",
    "\n",
    "# Summarize anomalies\n",
    "if 'error_rate' in df_train.columns:\n",
    "    anomalous_summary = anomalous_ips[['internal_ip', 'request_count']].merge(\n",
    "        df_train[['internal_ip', 'error_rate']].drop_duplicates(), on='internal_ip', how='left'\n",
    "    )\n",
    "else:\n",
    "    anomalous_summary = anomalous_ips[['internal_ip', 'request_count']]\n",
    "\n",
    "print(\"Anomalous IP Summary:\")\n",
    "print(anomalous_summary)"
   ]
  }
 ],
 "metadata": {
  "kernelspec": {
   "display_name": "Python 3",
   "language": "python",
   "name": "python3"
  },
  "language_info": {
   "codemirror_mode": {
    "name": "ipython",
    "version": 3
   },
   "file_extension": ".py",
   "mimetype": "text/x-python",
   "name": "python",
   "nbconvert_exporter": "python",
   "pygments_lexer": "ipython3",
   "version": "3.12.7"
  }
 },
 "nbformat": 4,
 "nbformat_minor": 2
}
